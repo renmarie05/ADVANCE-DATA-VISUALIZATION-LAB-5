{
  "nbformat": 4,
  "nbformat_minor": 0,
  "metadata": {
    "colab": {
      "provenance": [],
      "authorship_tag": "ABX9TyOpTP88RQVy9PQMRO4m8IuR",
      "include_colab_link": true
    },
    "kernelspec": {
      "name": "python3",
      "display_name": "Python 3"
    },
    "language_info": {
      "name": "python"
    }
  },
  "cells": [
    {
      "cell_type": "markdown",
      "metadata": {
        "id": "view-in-github",
        "colab_type": "text"
      },
      "source": [
        "<a href=\"https://colab.research.google.com/github/renmarie05/ADVANCE-DATA-VISUALIZATION-LAB-5/blob/main/ADVANCE_DATA_VISUALIZATION_LAB_5.ipynb\" target=\"_parent\"><img src=\"https://colab.research.google.com/assets/colab-badge.svg\" alt=\"Open In Colab\"/></a>"
      ]
    },
    {
      "cell_type": "code",
      "execution_count": 6,
      "metadata": {
        "colab": {
          "base_uri": "https://localhost:8080/"
        },
        "id": "_3un4DMNhemh",
        "outputId": "dddf29c9-74eb-46a8-da16-f3503a6f0b2c"
      },
      "outputs": [
        {
          "output_type": "stream",
          "name": "stdout",
          "text": [
            "Enter your choice:1\n",
            "Enter two numbers: \n",
            "6\n",
            "2\n",
            "Result =  8.0\n"
          ]
        }
      ],
      "source": [
        "choice = int(input(\"Enter your choice:\"))\n",
        "print(\"Enter two numbers: \")\n",
        "num1 = float(input())\n",
        "num2 = float(input())\n",
        "\n",
        "if choice == 1:\n",
        "  res = num1 + num2\n",
        "  print(\"Result = \", res)\n",
        "\n",
        "elif choice == 2:\n",
        "  res = num1 - num2\n",
        "  print(\"Result = \", res)\n",
        "\n",
        "elif choice == 3:\n",
        "  res = num1 * num2\n",
        "  print(\"Result = \", res)\n",
        "\n",
        "elif choice == 4:\n",
        "  res = num1 / num2\n",
        "  print(\"Result = \", res)\n",
        "\n",
        "elif choice == 5:\n",
        "  exit()\n",
        "else: \n",
        "  print(\"Wrong input..!!\")"
      ]
    }
  ]
}